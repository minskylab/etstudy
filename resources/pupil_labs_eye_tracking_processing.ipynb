{
 "cells": [
  {
   "cell_type": "code",
   "execution_count": 1,
   "metadata": {},
   "outputs": [
    {
     "name": "stdout",
     "output_type": "stream",
     "text": [
      "000/\n",
      "    eye0.mp4\n",
      "    eye0_lookup.npy\n",
      "    eye0_timestamps.npy\n",
      "    eye1.mp4\n",
      "    eye1_lookup.npy\n",
      "    eye1_timestamps.npy\n",
      "    eye_movement_segments.pldata\n",
      "    eye_movement_segments_timestamps.npy\n",
      "    fixations.pldata\n",
      "    fixations_timestamps.npy\n",
      "    gaze.pldata\n",
      "    gaze_timestamps.npy\n",
      "    info.player.json\n",
      "    notify.pldata\n",
      "    notify_timestamps.npy\n",
      "    pupil.pldata\n",
      "    pupil_timestamps.npy\n",
      "    user_info.csv\n",
      "    world.intrinsics\n",
      "    world.mp4\n",
      "    world_lookup.npy\n",
      "    world_timestamps.npy\n",
      "    offline_data/\n",
      "        tokens/\n",
      "            pupil_positions_consumer_Pupil_From_Recording.token\n",
      "            pupil_positions_consumer_System_Timelines.token\n",
      "            pupil_positions_producer_Pupil_From_Recording.token\n"
     ]
    }
   ],
   "source": [
    "import os\n",
    "\n",
    "recording_location = r'C:\\temp\\pupil\\2019_10_30\\000'\n",
    "\n",
    "def print_file_structure(startpath):\n",
    "    for root, dirs, files in os.walk(startpath):\n",
    "        level = root.replace(startpath, '').count(os.sep)\n",
    "        indent = ' ' * 4 * (level)\n",
    "        print('{}{}/'.format(indent, os.path.basename(root)))\n",
    "        subindent = ' ' * 4 * (level + 1)\n",
    "        for f in sorted(files):\n",
    "            print('{}{}'.format(subindent, f))\n",
    "print_file_structure(recording_location)"
   ]
  },
  {
   "cell_type": "code",
   "execution_count": null,
   "metadata": {},
   "outputs": [],
   "source": []
  }
 ],
 "metadata": {
  "kernelspec": {
   "display_name": "Python 3",
   "language": "python",
   "name": "python3"
  },
  "language_info": {
   "codemirror_mode": {
    "name": "ipython",
    "version": 3
   },
   "file_extension": ".py",
   "mimetype": "text/x-python",
   "name": "python",
   "nbconvert_exporter": "python",
   "pygments_lexer": "ipython3",
   "version": "3.7.6"
  },
  "pycharm": {
   "stem_cell": {
    "cell_type": "raw",
    "source": [],
    "metadata": {
     "collapsed": false
    }
   }
  }
 },
 "nbformat": 4,
 "nbformat_minor": 4
}