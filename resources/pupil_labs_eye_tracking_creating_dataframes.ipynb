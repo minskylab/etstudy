{
 "cells": [
  {
   "cell_type": "code",
   "execution_count": 23,
   "metadata": {},
   "outputs": [],
   "source": [
    "import os\n",
    "import numpy as np\n",
    "import pandas as pd"
   ]
  },
  {
   "cell_type": "code",
   "execution_count": 30,
   "metadata": {},
   "outputs": [],
   "source": [
    "os.chdir(r'C:\\temp\\pupil\\2019_10_30\\000')\n",
    "## Load example data.\n",
    "eyes = pd.DataFrame(np.load('fixations_timestamps.npy'))\n",
    "gaze = pd.DataFrame(np.load('gaze_timestamps.npy'))\n",
    "notify = pd.DataFrame(np.load('notify_timestamps.npy'))\n",
    "pupil = pd.DataFrame(np.load('pupil_timestamps.npy'))\n",
    "world_lookup = pd.DataFrame(np.load('world_lookup.npy'))\n",
    "world_time = pd.DataFrame(np.load('world_timestamps.npy'))"
   ]
  },
  {
   "cell_type": "code",
   "execution_count": 31,
   "metadata": {},
   "outputs": [
    {
     "name": "stdout",
     "output_type": "stream",
     "text": [
      "(470, 1) (57701, 1) (1, 1) (57701, 1) (751, 4) (745, 1)\n"
     ]
    }
   ],
   "source": [
    "print(eyes.shape, gaze.shape, notify.shape, pupil.shape, world_lookup.shape, world_time.shape)"
   ]
  },
  {
   "cell_type": "code",
   "execution_count": 39,
   "metadata": {},
   "outputs": [],
   "source": [
    "df = pd.concat([eyes, gaze, notify, pupil, world_lookup, world_time], axis=1)"
   ]
  },
  {
   "cell_type": "code",
   "execution_count": 41,
   "metadata": {},
   "outputs": [
    {
     "name": "stdout",
     "output_type": "stream",
     "text": [
      "<bound method NDFrame.head of                    0              0            0              0  \\\n",
      "0      574305.397481  574305.085903  2667.152001  574305.085903   \n",
      "1      574306.984142  574304.973629          NaN  574305.090146   \n",
      "2      574307.289793  574304.981721          NaN  574305.106457   \n",
      "3      574308.438971  574305.006464          NaN  574305.106472   \n",
      "4      574309.755884  574305.023109          NaN  574305.123109   \n",
      "...              ...            ...          ...            ...   \n",
      "57696            NaN  574635.050443          NaN  574635.167145   \n",
      "57697            NaN  574635.055303          NaN  574635.167615   \n",
      "57698            NaN  574635.150384          NaN  574635.171558   \n",
      "57699            NaN  574635.167145          NaN  574635.183741   \n",
      "57700            NaN  574635.171558          NaN  574635.183745   \n",
      "\n",
      "       container_idx  container_frame_idx      timestamp      pts  \\\n",
      "0                0.0                  0.0  574305.399718   3408.0   \n",
      "1                0.0                  1.0  574305.735135  25389.0   \n",
      "2                0.0                  2.0  574306.011263  43485.0   \n",
      "3                0.0                  3.0  574306.290882  61810.0   \n",
      "4                0.0                  4.0  574306.612206  82868.0   \n",
      "...              ...                  ...            ...      ...   \n",
      "57696            NaN                  NaN            NaN      NaN   \n",
      "57697            NaN                  NaN            NaN      NaN   \n",
      "57698            NaN                  NaN            NaN      NaN   \n",
      "57699            NaN                  NaN            NaN      NaN   \n",
      "57700            NaN                  NaN            NaN      NaN   \n",
      "\n",
      "                   0  \n",
      "0      574305.399718  \n",
      "1      574305.735135  \n",
      "2      574306.011263  \n",
      "3      574306.290882  \n",
      "4      574306.612206  \n",
      "...              ...  \n",
      "57696            NaN  \n",
      "57697            NaN  \n",
      "57698            NaN  \n",
      "57699            NaN  \n",
      "57700            NaN  \n",
      "\n",
      "[57701 rows x 9 columns]>\n"
     ]
    }
   ],
   "source": [
    "print(df.head)"
   ]
  },
  {
   "cell_type": "code",
   "execution_count": null,
   "metadata": {},
   "outputs": [],
   "source": []
  }
 ],
 "metadata": {
  "kernelspec": {
   "display_name": "Python 3",
   "language": "python",
   "name": "python3"
  },
  "language_info": {
   "codemirror_mode": {
    "name": "ipython",
    "version": 3
   },
   "file_extension": ".py",
   "mimetype": "text/x-python",
   "name": "python",
   "nbconvert_exporter": "python",
   "pygments_lexer": "ipython3",
   "version": "3.7.6"
  }
 },
 "nbformat": 4,
 "nbformat_minor": 4
}
